{
 "cells": [
  {
   "cell_type": "code",
   "execution_count": 9,
   "id": "5102e75e",
   "metadata": {},
   "outputs": [],
   "source": [
    "import numpy as np\n",
    "a=12\n",
    "b=5\n",
    "def logn(a,b):\n",
    "    print(np.log(a+b))\n",
    "def va(a,b):\n",
    "    print(abs(a-b))\n",
    "def pot(a,b):\n",
    "    print((a**b))\n"
   ]
  },
  {
   "cell_type": "code",
   "execution_count": 13,
   "id": "93143b87",
   "metadata": {},
   "outputs": [
    {
     "name": "stdout",
     "output_type": "stream",
     "text": [
      "2.6390573296152584\n",
      "6\n",
      "10000\n"
     ]
    }
   ],
   "source": [
    "a=10\n",
    "b=4\n",
    "logn(a,b)\n",
    "va(a,b)\n",
    "pot(a,b)"
   ]
  },
  {
   "cell_type": "code",
   "execution_count": 64,
   "id": "cc593b9a",
   "metadata": {},
   "outputs": [
    {
     "name": "stdout",
     "output_type": "stream",
     "text": [
      "El log esel valor absoluto es 6\n",
      " 2.6390573296152584\n",
      "la potencias es 10000\n"
     ]
    }
   ],
   "source": [
    "import threading\n",
    "\n",
    "a=12\n",
    "b=5\n",
    "def logn(a,b):\n",
    "    print(\"El log es\",np.log(a+b))\n",
    "def va(a,b):\n",
    "    print(\"el valor absoluto es\",abs(a-b))\n",
    "def pot(a,b):\n",
    "    print(\"la potencias es\",(a**b))\n",
    "\n",
    "    \n",
    "\n",
    "t1 = threading.Thread(target=logn, args=(10,4))\n",
    "t2 = threading.Thread(target=va, args=(10,4))\n",
    "t3 = threading.Thread(target=pot, args=(10,4))\n",
    "t1.start()\n",
    "t2.start()\n",
    "t3.start()\n",
    "\n",
    "\n",
    "t1.join(timeout=1)\n",
    "t2.join(timeout=0.0000000000000000000000000000000000000000000000000000000000000000000000000001)\n",
    "t3.join(timeout=0.01)\n",
    "     "
   ]
  },
  {
   "cell_type": "code",
   "execution_count": 65,
   "id": "60a439f9",
   "metadata": {},
   "outputs": [
    {
     "name": "stdout",
     "output_type": "stream",
     "text": [
      "El log es 2.6390573296152584\n",
      "el valor absoluto es 6\n",
      "la potencias es 10000\n"
     ]
    },
    {
     "ename": "OverflowError",
     "evalue": "timestamp too large to convert to C _PyTime_t",
     "output_type": "error",
     "traceback": [
      "\u001b[1;31m---------------------------------------------------------------------------\u001b[0m",
      "\u001b[1;31mOverflowError\u001b[0m                             Traceback (most recent call last)",
      "Cell \u001b[1;32mIn[65], line 23\u001b[0m\n\u001b[0;32m     19\u001b[0m t3\u001b[38;5;241m.\u001b[39mstart()\n\u001b[0;32m     22\u001b[0m t1\u001b[38;5;241m.\u001b[39mjoin(timeout\u001b[38;5;241m=\u001b[39m\u001b[38;5;241m1\u001b[39m)\n\u001b[1;32m---> 23\u001b[0m t2\u001b[38;5;241m.\u001b[39mjoin(timeout\u001b[38;5;241m=\u001b[39m\u001b[38;5;241m1000000000000000000\u001b[39m)\n\u001b[0;32m     24\u001b[0m t3\u001b[38;5;241m.\u001b[39mjoin(timeout\u001b[38;5;241m=\u001b[39m\u001b[38;5;241m0.01\u001b[39m)\n",
      "File \u001b[1;32m~\\anaconda3\\Lib\\threading.py:1116\u001b[0m, in \u001b[0;36mThread.join\u001b[1;34m(self, timeout)\u001b[0m\n\u001b[0;32m   1112\u001b[0m     \u001b[38;5;28mself\u001b[39m\u001b[38;5;241m.\u001b[39m_wait_for_tstate_lock()\n\u001b[0;32m   1113\u001b[0m \u001b[38;5;28;01melse\u001b[39;00m:\n\u001b[0;32m   1114\u001b[0m     \u001b[38;5;66;03m# the behavior of a negative timeout isn't documented, but\u001b[39;00m\n\u001b[0;32m   1115\u001b[0m     \u001b[38;5;66;03m# historically .join(timeout=x) for x<0 has acted as if timeout=0\u001b[39;00m\n\u001b[1;32m-> 1116\u001b[0m     \u001b[38;5;28mself\u001b[39m\u001b[38;5;241m.\u001b[39m_wait_for_tstate_lock(timeout\u001b[38;5;241m=\u001b[39m\u001b[38;5;28mmax\u001b[39m(timeout, \u001b[38;5;241m0\u001b[39m))\n",
      "File \u001b[1;32m~\\anaconda3\\Lib\\threading.py:1132\u001b[0m, in \u001b[0;36mThread._wait_for_tstate_lock\u001b[1;34m(self, block, timeout)\u001b[0m\n\u001b[0;32m   1129\u001b[0m     \u001b[38;5;28;01mreturn\u001b[39;00m\n\u001b[0;32m   1131\u001b[0m \u001b[38;5;28;01mtry\u001b[39;00m:\n\u001b[1;32m-> 1132\u001b[0m     \u001b[38;5;28;01mif\u001b[39;00m lock\u001b[38;5;241m.\u001b[39macquire(block, timeout):\n\u001b[0;32m   1133\u001b[0m         lock\u001b[38;5;241m.\u001b[39mrelease()\n\u001b[0;32m   1134\u001b[0m         \u001b[38;5;28mself\u001b[39m\u001b[38;5;241m.\u001b[39m_stop()\n",
      "\u001b[1;31mOverflowError\u001b[0m: timestamp too large to convert to C _PyTime_t"
     ]
    }
   ],
   "source": [
    "import threading\n",
    "\n",
    "a=12\n",
    "b=5\n",
    "def logn(a,b):\n",
    "    print(\"El log es\",np.log(a+b))\n",
    "def va(a,b):\n",
    "    print(\"el valor absoluto es\",abs(a-b))\n",
    "def pot(a,b):\n",
    "    print(\"la potencias es\",(a**b))\n",
    "\n",
    "    \n",
    "\n",
    "t1 = threading.Thread(target=logn, args=(10,4))\n",
    "t2 = threading.Thread(target=va, args=(10,4))\n",
    "t3 = threading.Thread(target=pot, args=(10,4))\n",
    "t1.start()\n",
    "t2.start()\n",
    "t3.start()\n",
    "\n",
    "\n",
    "t1.join(timeout=1)\n",
    "t2.join(timeout=1000000000000000000)\n",
    "t3.join(timeout=0.01)\n",
    "     "
   ]
  },
  {
   "cell_type": "markdown",
   "id": "0b60d66a",
   "metadata": {},
   "source": [
    "creo que el timeout lo que hace es que le da un tiempo para que espere y pueda ejecutar lo que le corresponde si es muy alto practicamnete dice que es mucho la espera"
   ]
  },
  {
   "cell_type": "code",
   "execution_count": null,
   "id": "d7bee048",
   "metadata": {},
   "outputs": [],
   "source": []
  }
 ],
 "metadata": {
  "kernelspec": {
   "display_name": "Python 3 (ipykernel)",
   "language": "python",
   "name": "python3"
  },
  "language_info": {
   "codemirror_mode": {
    "name": "ipython",
    "version": 3
   },
   "file_extension": ".py",
   "mimetype": "text/x-python",
   "name": "python",
   "nbconvert_exporter": "python",
   "pygments_lexer": "ipython3",
   "version": "3.11.4"
  }
 },
 "nbformat": 4,
 "nbformat_minor": 5
}

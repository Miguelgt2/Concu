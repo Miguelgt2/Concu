{
  "cells": [
    {
      "cell_type": "markdown",
      "metadata": {
        "id": "8UQAJS17EEaI"
      },
      "source": [
        "### Programación Concurrente\n",
        "## 27. Joins con Spark\n"
      ]
    },
    {
      "cell_type": "code",
      "source": [
        "from pyspark.sql import SparkSession\n",
        "from pyspark.sql.functions import col, lit, to_timestamp"
      ],
      "metadata": {
        "id": "0dtuuRww-ekh"
      },
      "execution_count": 1,
      "outputs": []
    },
    {
      "cell_type": "code",
      "source": [
        "spark = SparkSession.builder.master(\"local[*]\").getOrCreate()\n",
        "spark"
      ],
      "metadata": {
        "colab": {
          "base_uri": "https://localhost:8080/",
          "height": 219
        },
        "id": "X2lSnbMu90R9",
        "outputId": "b0405543-f6d3-4c87-d76b-7f0c1057bf7d"
      },
      "execution_count": 2,
      "outputs": [
        {
          "output_type": "execute_result",
          "data": {
            "text/plain": [
              "<pyspark.sql.session.SparkSession at 0x7d3fd7505870>"
            ],
            "text/html": [
              "\n",
              "            <div>\n",
              "                <p><b>SparkSession - in-memory</b></p>\n",
              "                \n",
              "        <div>\n",
              "            <p><b>SparkContext</b></p>\n",
              "\n",
              "            <p><a href=\"http://b05243eca601:4040\">Spark UI</a></p>\n",
              "\n",
              "            <dl>\n",
              "              <dt>Version</dt>\n",
              "                <dd><code>v3.5.3</code></dd>\n",
              "              <dt>Master</dt>\n",
              "                <dd><code>local[*]</code></dd>\n",
              "              <dt>AppName</dt>\n",
              "                <dd><code>pyspark-shell</code></dd>\n",
              "            </dl>\n",
              "        </div>\n",
              "        \n",
              "            </div>\n",
              "        "
            ]
          },
          "metadata": {},
          "execution_count": 2
        }
      ]
    },
    {
      "cell_type": "code",
      "source": [
        "from google.colab import drive\n",
        "drive.mount('/content/drive')"
      ],
      "metadata": {
        "id": "iP2j00E_ZBUB",
        "outputId": "8c8ff3b0-e0f6-478c-dc85-a6012164d777",
        "colab": {
          "base_uri": "https://localhost:8080/"
        }
      },
      "execution_count": 3,
      "outputs": [
        {
          "output_type": "stream",
          "name": "stdout",
          "text": [
            "Mounted at /content/drive\n"
          ]
        }
      ]
    },
    {
      "cell_type": "markdown",
      "source": [
        "Un Join es una operación que permite combinar datos de dos o más tablas en una sola, basándose en una relación entre ellas. Usualmente, esta relación se establece a través de una columna en común entre las tablas.\n",
        "\n",
        "El Join permite acceder y manipular datos que están distribuidos en varias tablas de manera conjunta, obteniendo así resultados más complejos y completos.\n",
        "\n",
        "Vamos a leer tres tablas; estas se encuentran en este [enlace de Kaggle](https://www.kaggle.com/datasets/svbstan/sales-product-and-customer-insight-repository)"
      ],
      "metadata": {
        "id": "o2haTcTjDZPa"
      }
    },
    {
      "cell_type": "code",
      "source": [
        "from pyspark.sql import SparkSession\n",
        "from pyspark.sql.functions import col, to_timestamp, lit\n",
        "\n",
        "# Cargar los datos de los clientes\n",
        "customer_profile = spark.read.csv('/content/drive/My Drive/customer_profile_dataset.csv', header=True, inferSchema=True)\n",
        "\n",
        "# Cargar los datos de los productos\n",
        "products = spark.read.csv('/content/drive/My Drive/products_dataset.csv', header=True, inferSchema=True)\n",
        "\n",
        "# Cargar los datos de historial de compras\n",
        "purchase = spark.read.csv('/content/drive/My Drive/purchase_history_dataset.csv', header=True, inferSchema=True)\n",
        "\n"
      ],
      "metadata": {
        "id": "tO3lhBRvgzia"
      },
      "execution_count": 4,
      "outputs": []
    },
    {
      "cell_type": "markdown",
      "source": [
        "1. Responde, ¿cuántos clientes llamados \"Robert\" (nota cómo hay *Males* y *Females*), compraron algún producto lácteo (Dairy) en 2022 ?"
      ],
      "metadata": {
        "id": "LHpNtI3Wf1zi"
      }
    },
    {
      "cell_type": "code",
      "source": [
        "from pyspark.sql.functions import col, to_timestamp, lit\n",
        "\n",
        "robert_dairy_purchases_2022 = purchase \\\n",
        "    .filter(col('purchase_date').between(lit(\"2022-01-01 00:00:00\"), lit(\"2022-12-31 23:59:59\"))) \\\n",
        "    .join(products.filter(col('category') == 'Dairy'), \"product_id\") \\\n",
        "    .join(customer_profile.filter(col('first_name') == 'Robert'), \"customer_id\") \\\n",
        "    .select('customer_id').distinct().count()\n",
        "\n",
        "print(f\"Cantidad de clientes llamados 'Robert' que compraron productos lácteos en 2022: {robert_dairy_purchases_2022}\")\n"
      ],
      "metadata": {
        "id": "MzChOB38gx95",
        "outputId": "b198faa6-6864-452c-9789-daed51ea26d0",
        "colab": {
          "base_uri": "https://localhost:8080/"
        }
      },
      "execution_count": 5,
      "outputs": [
        {
          "output_type": "stream",
          "name": "stdout",
          "text": [
            "Cantidad de clientes llamados 'Robert' que compraron productos lácteos en 2022: 31\n"
          ]
        }
      ]
    },
    {
      "cell_type": "markdown",
      "source": [
        "2. Eres empleado de *BrandB*. ¿En cuáles ciudades has vendido una mayor cantidad? (total_amount)"
      ],
      "metadata": {
        "id": "CJAs0cmkhL36"
      }
    },
    {
      "cell_type": "code",
      "source": [
        "top_cities_brandb = purchase \\\n",
        "    .join(products.filter(col('brand') == 'BrandB'), \"product_id\") \\\n",
        "    .join(customer_profile, \"customer_id\") \\\n",
        "    .groupBy('city').sum('total_amount') \\\n",
        "    .orderBy(col('sum(total_amount)').desc()) \\\n",
        "    .show()\n"
      ],
      "metadata": {
        "id": "yRGT01Vdg9vT",
        "outputId": "20c26baa-a83d-48cf-9d6c-1351558210ff",
        "colab": {
          "base_uri": "https://localhost:8080/"
        }
      },
      "execution_count": 6,
      "outputs": [
        {
          "output_type": "stream",
          "name": "stdout",
          "text": [
            "+------------+------------------+\n",
            "|        city| sum(total_amount)|\n",
            "+------------+------------------+\n",
            "|     Chicago|29557.642903425036|\n",
            "|     Houston| 28586.38258782695|\n",
            "|     Phoenix| 28041.96419969516|\n",
            "|Philadelphia|27492.074313737838|\n",
            "|    New York|27246.218068437967|\n",
            "| San Antonio|25221.051797835673|\n",
            "| Los Angeles|23819.529899740137|\n",
            "+------------+------------------+\n",
            "\n"
          ]
        }
      ]
    },
    {
      "cell_type": "markdown",
      "source": [
        "3. ¿De cuánto es la mayor cantidad (quantity) que ha sido comprado por algún hombre O cuyo producto sea pan (Bread)?"
      ],
      "metadata": {
        "id": "DBG8StJohWKB"
      }
    },
    {
      "cell_type": "code",
      "source": [
        "from pyspark.sql.functions import col, to_timestamp, lit\n",
        "\n",
        "max_quantity_male_or_bread = purchase \\\n",
        "    .join(customer_profile, \"customer_id\", \"left_outer\") \\\n",
        "    .join(products, \"product_id\", \"left_outer\") \\\n",
        "    .filter((col('gender') == 'Male') | (col('category') == 'Bread')) \\\n",
        "    .select('quantity').groupBy().max('quantity').collect()[0][0]\n",
        "\n",
        "print(f\"La mayor cantidad comprada por algún hombre O en productos de pan es: {max_quantity_male_or_bread}\")\n",
        "\n"
      ],
      "metadata": {
        "id": "Thj_NfKlhOgt",
        "outputId": "d22e8159-0b3e-44ff-a9df-20cd39f89364",
        "colab": {
          "base_uri": "https://localhost:8080/"
        }
      },
      "execution_count": 7,
      "outputs": [
        {
          "output_type": "stream",
          "name": "stdout",
          "text": [
            "La mayor cantidad comprada por algún hombre O en productos de pan es: 5\n"
          ]
        }
      ]
    },
    {
      "cell_type": "code",
      "source": [],
      "metadata": {
        "id": "FIhjWgzAha9p"
      },
      "execution_count": null,
      "outputs": []
    }
  ],
  "metadata": {
    "colab": {
      "provenance": []
    },
    "kernelspec": {
      "display_name": "Python 3",
      "name": "python3"
    },
    "language_info": {
      "name": "python"
    }
  },
  "nbformat": 4,
  "nbformat_minor": 0
}